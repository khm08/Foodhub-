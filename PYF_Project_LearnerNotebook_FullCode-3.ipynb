{
 "cells": [
  {
   "cell_type": "markdown",
   "metadata": {
    "id": "Gc8x8QimJY_H"
   },
   "source": [
    "# FoodHub Data Analysis\n",
    "\n"
   ]
  },
  {
   "cell_type": "markdown",
   "metadata": {
    "id": "NqikjkWwJY_L"
   },
   "source": [
    "### Context\n",
    "\n",
    "The number of restaurants in New York is increasing day by day. Lots of students and busy professionals rely on those restaurants due to their hectic lifestyles. Online food delivery service is a great option for them. It provides them with good food from their favorite restaurants. A food aggregator company FoodHub offers access to multiple restaurants through a single smartphone app.\n",
    "\n",
    "The app allows the restaurants to receive a direct online order from a customer. The app assigns a delivery person from the company to pick up the order after it is confirmed by the restaurant. The delivery person then uses the map to reach the restaurant and waits for the food package. Once the food package is handed over to the delivery person, he/she confirms the pick-up in the app and travels to the customer's location to deliver the food. The delivery person confirms the drop-off in the app after delivering the food package to the customer. The customer can rate the order in the app. The food aggregator earns money by collecting a fixed margin of the delivery order from the restaurants.\n",
    "\n",
    "### Objective\n",
    "\n",
    "The food aggregator company has stored the data of the different orders made by the registered customers in their online portal. They want to analyze the data to get a fair idea about the demand of different restaurants which will help them in enhancing their customer experience. Suppose you are hired as a Data Scientist in this company and the Data Science team has shared some of the key questions that need to be answered. Perform the data analysis to find answers to these questions that will help the company to improve the business. \n",
    "\n",
    "### Data Description\n",
    "\n",
    "The data contains the different data related to a food order. The detailed data dictionary is given below.\n",
    "\n",
    "### Data Dictionary\n",
    "\n",
    "* order_id: Unique ID of the order\n",
    "* customer_id: ID of the customer who ordered the food\n",
    "* restaurant_name: Name of the restaurant\n",
    "* cuisine_type: Cuisine ordered by the customer\n",
    "* cost: Cost of the order\n",
    "* day_of_the_week: Indicates whether the order is placed on a weekday or weekend (The weekday is from Monday to Friday and the weekend is Saturday and Sunday)\n",
    "* rating: Rating given by the customer out of 5\n",
    "* food_preparation_time: Time (in minutes) taken by the restaurant to prepare the food. This is calculated by taking the difference between the timestamps of the restaurant's order confirmation and the delivery person's pick-up confirmation.\n",
    "* delivery_time: Time (in minutes) taken by the delivery person to deliver the food package. This is calculated by taking the difference between the timestamps of the delivery person's pick-up confirmation and drop-off information"
   ]
  },
  {
   "cell_type": "markdown",
   "metadata": {
    "id": "cEtNUxNAJY_M"
   },
   "source": [
    "### Let us start by importing the required libraries"
   ]
  },
  {
   "cell_type": "code",
   "execution_count": 1,
   "metadata": {
    "id": "u6PlpJAPJY_N"
   },
   "outputs": [],
   "source": [
    "# import libraries for data manipulation\n",
    "import numpy as np\n",
    "import pandas as pd\n",
    "\n",
    "# import libraries for data visualization\n",
    "import matplotlib.pyplot as plt\n",
    "import seaborn as sns"
   ]
  },
  {
   "cell_type": "markdown",
   "metadata": {
    "id": "AdracY0HJY_O"
   },
   "source": [
    "### Understanding the structure of the data"
   ]
  },
  {
   "cell_type": "code",
   "execution_count": 2,
   "metadata": {
    "id": "WBh2ZGB9kFhU"
   },
   "outputs": [],
   "source": [
    "# uncomment and run the following lines for Google Colab\n",
    "# from google.colab import drive\n",
    "# drive.mount('/content/drive')"
   ]
  },
  {
   "cell_type": "code",
   "execution_count": 3,
   "metadata": {
    "id": "GF01IZDbJY_O",
    "scrolled": true
   },
   "outputs": [
    {
     "data": {
      "text/html": [
       "<div>\n",
       "<style scoped>\n",
       "    .dataframe tbody tr th:only-of-type {\n",
       "        vertical-align: middle;\n",
       "    }\n",
       "\n",
       "    .dataframe tbody tr th {\n",
       "        vertical-align: top;\n",
       "    }\n",
       "\n",
       "    .dataframe thead th {\n",
       "        text-align: right;\n",
       "    }\n",
       "</style>\n",
       "<table border=\"1\" class=\"dataframe\">\n",
       "  <thead>\n",
       "    <tr style=\"text-align: right;\">\n",
       "      <th></th>\n",
       "      <th>order_id</th>\n",
       "      <th>customer_id</th>\n",
       "      <th>restaurant_name</th>\n",
       "      <th>cuisine_type</th>\n",
       "      <th>cost_of_the_order</th>\n",
       "      <th>day_of_the_week</th>\n",
       "      <th>rating</th>\n",
       "      <th>food_preparation_time</th>\n",
       "      <th>delivery_time</th>\n",
       "    </tr>\n",
       "  </thead>\n",
       "  <tbody>\n",
       "    <tr>\n",
       "      <th>0</th>\n",
       "      <td>1477147</td>\n",
       "      <td>337525</td>\n",
       "      <td>Hangawi</td>\n",
       "      <td>Korean</td>\n",
       "      <td>30.75</td>\n",
       "      <td>Weekend</td>\n",
       "      <td>Not given</td>\n",
       "      <td>25</td>\n",
       "      <td>20</td>\n",
       "    </tr>\n",
       "    <tr>\n",
       "      <th>1</th>\n",
       "      <td>1477685</td>\n",
       "      <td>358141</td>\n",
       "      <td>Blue Ribbon Sushi Izakaya</td>\n",
       "      <td>Japanese</td>\n",
       "      <td>12.08</td>\n",
       "      <td>Weekend</td>\n",
       "      <td>Not given</td>\n",
       "      <td>25</td>\n",
       "      <td>23</td>\n",
       "    </tr>\n",
       "    <tr>\n",
       "      <th>2</th>\n",
       "      <td>1477070</td>\n",
       "      <td>66393</td>\n",
       "      <td>Cafe Habana</td>\n",
       "      <td>Mexican</td>\n",
       "      <td>12.23</td>\n",
       "      <td>Weekday</td>\n",
       "      <td>5</td>\n",
       "      <td>23</td>\n",
       "      <td>28</td>\n",
       "    </tr>\n",
       "    <tr>\n",
       "      <th>3</th>\n",
       "      <td>1477334</td>\n",
       "      <td>106968</td>\n",
       "      <td>Blue Ribbon Fried Chicken</td>\n",
       "      <td>American</td>\n",
       "      <td>29.20</td>\n",
       "      <td>Weekend</td>\n",
       "      <td>3</td>\n",
       "      <td>25</td>\n",
       "      <td>15</td>\n",
       "    </tr>\n",
       "    <tr>\n",
       "      <th>4</th>\n",
       "      <td>1478249</td>\n",
       "      <td>76942</td>\n",
       "      <td>Dirty Bird to Go</td>\n",
       "      <td>American</td>\n",
       "      <td>11.59</td>\n",
       "      <td>Weekday</td>\n",
       "      <td>4</td>\n",
       "      <td>25</td>\n",
       "      <td>24</td>\n",
       "    </tr>\n",
       "  </tbody>\n",
       "</table>\n",
       "</div>"
      ],
      "text/plain": [
       "   order_id  customer_id            restaurant_name cuisine_type  \\\n",
       "0   1477147       337525                    Hangawi       Korean   \n",
       "1   1477685       358141  Blue Ribbon Sushi Izakaya     Japanese   \n",
       "2   1477070        66393                Cafe Habana      Mexican   \n",
       "3   1477334       106968  Blue Ribbon Fried Chicken     American   \n",
       "4   1478249        76942           Dirty Bird to Go     American   \n",
       "\n",
       "   cost_of_the_order day_of_the_week     rating  food_preparation_time  \\\n",
       "0              30.75         Weekend  Not given                     25   \n",
       "1              12.08         Weekend  Not given                     25   \n",
       "2              12.23         Weekday          5                     23   \n",
       "3              29.20         Weekend          3                     25   \n",
       "4              11.59         Weekday          4                     25   \n",
       "\n",
       "   delivery_time  \n",
       "0             20  \n",
       "1             23  \n",
       "2             28  \n",
       "3             15  \n",
       "4             24  "
      ]
     },
     "execution_count": 3,
     "metadata": {},
     "output_type": "execute_result"
    }
   ],
   "source": [
    "# read the data\n",
    "df = pd.read_csv('foodhub_order.csv')\n",
    "# returns the first 5 rows\n",
    "df.head()"
   ]
  },
  {
   "cell_type": "markdown",
   "metadata": {
    "id": "J_Y9aJDJJY_P"
   },
   "source": [
    "#### Observations:\n",
    "\n",
    "The DataFrame has 9 columns as mentioned in the Data Dictionary. Data in each row corresponds to the order placed by a customer."
   ]
  },
  {
   "cell_type": "markdown",
   "metadata": {
    "id": "c3kenV4vJY_Q"
   },
   "source": [
    "###  How many rows and columns are present in the data? "
   ]
  },
  {
   "cell_type": "code",
   "execution_count": 4,
   "metadata": {
    "id": "Yvz5i-PhJY_Q"
   },
   "outputs": [
    {
     "name": "stdout",
     "output_type": "stream",
     "text": [
      "The data has 1898 rows and 9 columns\n"
     ]
    },
    {
     "data": {
      "text/plain": [
       "(1898, 9)"
      ]
     },
     "execution_count": 4,
     "metadata": {},
     "output_type": "execute_result"
    }
   ],
   "source": [
    "print(\"The data has {} rows and {} columns\".format(df.shape[0], df.shape[1]))\n",
    "df.shape"
   ]
  },
  {
   "cell_type": "markdown",
   "metadata": {
    "id": "UsTNy3unJY_R"
   },
   "source": [
    "#### Observations:\n",
    "Dataset consists of 1898 rows and 9 columns\n",
    "\n"
   ]
  },
  {
   "cell_type": "markdown",
   "metadata": {
    "id": "jRXakVrUJY_R"
   },
   "source": [
    "###  What are the datatypes of the different columns in the dataset? "
   ]
  },
  {
   "cell_type": "code",
   "execution_count": 5,
   "metadata": {
    "id": "Kp70Z0BNJY_R"
   },
   "outputs": [
    {
     "name": "stdout",
     "output_type": "stream",
     "text": [
      "<class 'pandas.core.frame.DataFrame'>\n",
      "RangeIndex: 1898 entries, 0 to 1897\n",
      "Data columns (total 9 columns):\n",
      " #   Column                 Non-Null Count  Dtype  \n",
      "---  ------                 --------------  -----  \n",
      " 0   order_id               1898 non-null   int64  \n",
      " 1   customer_id            1898 non-null   int64  \n",
      " 2   restaurant_name        1898 non-null   object \n",
      " 3   cuisine_type           1898 non-null   object \n",
      " 4   cost_of_the_order      1898 non-null   float64\n",
      " 5   day_of_the_week        1898 non-null   object \n",
      " 6   rating                 1898 non-null   object \n",
      " 7   food_preparation_time  1898 non-null   int64  \n",
      " 8   delivery_time          1898 non-null   int64  \n",
      "dtypes: float64(1), int64(4), object(4)\n",
      "memory usage: 133.6+ KB\n"
     ]
    }
   ],
   "source": [
    "df.info()"
   ]
  },
  {
   "cell_type": "markdown",
   "metadata": {
    "id": "WJes5GP2JY_S"
   },
   "source": [
    "#### Observations:\n",
    "I. The column 'Rating' is stated as an object rather than a float or int64\n",
    "\n",
    "II. No null counts or missing values for each column"
   ]
  },
  {
   "cell_type": "markdown",
   "metadata": {
    "id": "pF_92MN6JY_S"
   },
   "source": [
    "###  Are there any missing values in the data? If yes, treat them using an appropriate method."
   ]
  },
  {
   "cell_type": "code",
   "execution_count": 6,
   "metadata": {
    "id": "Zth-RR1PJY_S"
   },
   "outputs": [
    {
     "data": {
      "text/plain": [
       "order_id                 0\n",
       "customer_id              0\n",
       "restaurant_name          0\n",
       "cuisine_type             0\n",
       "cost_of_the_order        0\n",
       "day_of_the_week          0\n",
       "rating                   0\n",
       "food_preparation_time    0\n",
       "delivery_time            0\n",
       "dtype: int64"
      ]
     },
     "execution_count": 6,
     "metadata": {},
     "output_type": "execute_result"
    }
   ],
   "source": [
    "df.isnull().sum()"
   ]
  },
  {
   "cell_type": "markdown",
   "metadata": {
    "id": "jDHT3vD1JY_S"
   },
   "source": [
    "#### Observations:\n",
    "With respect to the data , No missing values were found."
   ]
  },
  {
   "cell_type": "markdown",
   "metadata": {
    "id": "MnJo7MWrJY_S"
   },
   "source": [
    "###  Check the statistical summary of the data. What is the minimum, average, and maximum time it takes for food to be prepared once an order is placed? "
   ]
  },
  {
   "cell_type": "code",
   "execution_count": 7,
   "metadata": {
    "id": "WprQBgOSJY_T"
   },
   "outputs": [
    {
     "data": {
      "text/html": [
       "<div>\n",
       "<style scoped>\n",
       "    .dataframe tbody tr th:only-of-type {\n",
       "        vertical-align: middle;\n",
       "    }\n",
       "\n",
       "    .dataframe tbody tr th {\n",
       "        vertical-align: top;\n",
       "    }\n",
       "\n",
       "    .dataframe thead th {\n",
       "        text-align: right;\n",
       "    }\n",
       "</style>\n",
       "<table border=\"1\" class=\"dataframe\">\n",
       "  <thead>\n",
       "    <tr style=\"text-align: right;\">\n",
       "      <th></th>\n",
       "      <th>count</th>\n",
       "      <th>unique</th>\n",
       "      <th>top</th>\n",
       "      <th>freq</th>\n",
       "      <th>mean</th>\n",
       "      <th>std</th>\n",
       "      <th>min</th>\n",
       "      <th>25%</th>\n",
       "      <th>50%</th>\n",
       "      <th>75%</th>\n",
       "      <th>max</th>\n",
       "    </tr>\n",
       "  </thead>\n",
       "  <tbody>\n",
       "    <tr>\n",
       "      <th>order_id</th>\n",
       "      <td>1898.0</td>\n",
       "      <td>NaN</td>\n",
       "      <td>NaN</td>\n",
       "      <td>NaN</td>\n",
       "      <td>1477495.5</td>\n",
       "      <td>548.049724</td>\n",
       "      <td>1476547.0</td>\n",
       "      <td>1477021.25</td>\n",
       "      <td>1477495.5</td>\n",
       "      <td>1477969.75</td>\n",
       "      <td>1478444.0</td>\n",
       "    </tr>\n",
       "    <tr>\n",
       "      <th>customer_id</th>\n",
       "      <td>1898.0</td>\n",
       "      <td>NaN</td>\n",
       "      <td>NaN</td>\n",
       "      <td>NaN</td>\n",
       "      <td>171168.478398</td>\n",
       "      <td>113698.139743</td>\n",
       "      <td>1311.0</td>\n",
       "      <td>77787.75</td>\n",
       "      <td>128600.0</td>\n",
       "      <td>270525.0</td>\n",
       "      <td>405334.0</td>\n",
       "    </tr>\n",
       "    <tr>\n",
       "      <th>restaurant_name</th>\n",
       "      <td>1898</td>\n",
       "      <td>178</td>\n",
       "      <td>Shake Shack</td>\n",
       "      <td>219</td>\n",
       "      <td>NaN</td>\n",
       "      <td>NaN</td>\n",
       "      <td>NaN</td>\n",
       "      <td>NaN</td>\n",
       "      <td>NaN</td>\n",
       "      <td>NaN</td>\n",
       "      <td>NaN</td>\n",
       "    </tr>\n",
       "    <tr>\n",
       "      <th>cuisine_type</th>\n",
       "      <td>1898</td>\n",
       "      <td>14</td>\n",
       "      <td>American</td>\n",
       "      <td>584</td>\n",
       "      <td>NaN</td>\n",
       "      <td>NaN</td>\n",
       "      <td>NaN</td>\n",
       "      <td>NaN</td>\n",
       "      <td>NaN</td>\n",
       "      <td>NaN</td>\n",
       "      <td>NaN</td>\n",
       "    </tr>\n",
       "    <tr>\n",
       "      <th>cost_of_the_order</th>\n",
       "      <td>1898.0</td>\n",
       "      <td>NaN</td>\n",
       "      <td>NaN</td>\n",
       "      <td>NaN</td>\n",
       "      <td>16.498851</td>\n",
       "      <td>7.483812</td>\n",
       "      <td>4.47</td>\n",
       "      <td>12.08</td>\n",
       "      <td>14.14</td>\n",
       "      <td>22.2975</td>\n",
       "      <td>35.41</td>\n",
       "    </tr>\n",
       "    <tr>\n",
       "      <th>day_of_the_week</th>\n",
       "      <td>1898</td>\n",
       "      <td>2</td>\n",
       "      <td>Weekend</td>\n",
       "      <td>1351</td>\n",
       "      <td>NaN</td>\n",
       "      <td>NaN</td>\n",
       "      <td>NaN</td>\n",
       "      <td>NaN</td>\n",
       "      <td>NaN</td>\n",
       "      <td>NaN</td>\n",
       "      <td>NaN</td>\n",
       "    </tr>\n",
       "    <tr>\n",
       "      <th>rating</th>\n",
       "      <td>1898</td>\n",
       "      <td>4</td>\n",
       "      <td>Not given</td>\n",
       "      <td>736</td>\n",
       "      <td>NaN</td>\n",
       "      <td>NaN</td>\n",
       "      <td>NaN</td>\n",
       "      <td>NaN</td>\n",
       "      <td>NaN</td>\n",
       "      <td>NaN</td>\n",
       "      <td>NaN</td>\n",
       "    </tr>\n",
       "    <tr>\n",
       "      <th>food_preparation_time</th>\n",
       "      <td>1898.0</td>\n",
       "      <td>NaN</td>\n",
       "      <td>NaN</td>\n",
       "      <td>NaN</td>\n",
       "      <td>27.37197</td>\n",
       "      <td>4.632481</td>\n",
       "      <td>20.0</td>\n",
       "      <td>23.0</td>\n",
       "      <td>27.0</td>\n",
       "      <td>31.0</td>\n",
       "      <td>35.0</td>\n",
       "    </tr>\n",
       "    <tr>\n",
       "      <th>delivery_time</th>\n",
       "      <td>1898.0</td>\n",
       "      <td>NaN</td>\n",
       "      <td>NaN</td>\n",
       "      <td>NaN</td>\n",
       "      <td>24.161749</td>\n",
       "      <td>4.972637</td>\n",
       "      <td>15.0</td>\n",
       "      <td>20.0</td>\n",
       "      <td>25.0</td>\n",
       "      <td>28.0</td>\n",
       "      <td>33.0</td>\n",
       "    </tr>\n",
       "  </tbody>\n",
       "</table>\n",
       "</div>"
      ],
      "text/plain": [
       "                        count unique          top  freq           mean  \\\n",
       "order_id               1898.0    NaN          NaN   NaN      1477495.5   \n",
       "customer_id            1898.0    NaN          NaN   NaN  171168.478398   \n",
       "restaurant_name          1898    178  Shake Shack   219            NaN   \n",
       "cuisine_type             1898     14     American   584            NaN   \n",
       "cost_of_the_order      1898.0    NaN          NaN   NaN      16.498851   \n",
       "day_of_the_week          1898      2      Weekend  1351            NaN   \n",
       "rating                   1898      4    Not given   736            NaN   \n",
       "food_preparation_time  1898.0    NaN          NaN   NaN       27.37197   \n",
       "delivery_time          1898.0    NaN          NaN   NaN      24.161749   \n",
       "\n",
       "                                 std        min         25%        50%  \\\n",
       "order_id                  548.049724  1476547.0  1477021.25  1477495.5   \n",
       "customer_id            113698.139743     1311.0    77787.75   128600.0   \n",
       "restaurant_name                  NaN        NaN         NaN        NaN   \n",
       "cuisine_type                     NaN        NaN         NaN        NaN   \n",
       "cost_of_the_order           7.483812       4.47       12.08      14.14   \n",
       "day_of_the_week                  NaN        NaN         NaN        NaN   \n",
       "rating                           NaN        NaN         NaN        NaN   \n",
       "food_preparation_time       4.632481       20.0        23.0       27.0   \n",
       "delivery_time               4.972637       15.0        20.0       25.0   \n",
       "\n",
       "                              75%        max  \n",
       "order_id               1477969.75  1478444.0  \n",
       "customer_id              270525.0   405334.0  \n",
       "restaurant_name               NaN        NaN  \n",
       "cuisine_type                  NaN        NaN  \n",
       "cost_of_the_order         22.2975      35.41  \n",
       "day_of_the_week               NaN        NaN  \n",
       "rating                        NaN        NaN  \n",
       "food_preparation_time        31.0       35.0  \n",
       "delivery_time                28.0       33.0  "
      ]
     },
     "execution_count": 7,
     "metadata": {},
     "output_type": "execute_result"
    }
   ],
   "source": [
    "df.describe(include=\"all\").T"
   ]
  },
  {
   "cell_type": "markdown",
   "metadata": {
    "id": "9YbSOR5wJY_T"
   },
   "source": [
    "#### Observations:\n",
    "I. Range includes between 20-35 minutes\n",
    "\n",
    "II. Food preparation which is the time preparing once the order is set measured in minutes out of 20 minutes, gives an average of 27 minutes and 04 seconds with a maximum of 35 minutes."
   ]
  },
  {
   "cell_type": "markdown",
   "metadata": {
    "id": "cw3l58z_JY_T"
   },
   "source": [
    "###  How many orders are not rated? "
   ]
  },
  {
   "cell_type": "code",
   "execution_count": 8,
   "metadata": {
    "id": "hEzDUL9wgksi"
   },
   "outputs": [
    {
     "data": {
      "text/plain": [
       "Not given    736\n",
       "5            588\n",
       "4            386\n",
       "3            188\n",
       "Name: rating, dtype: int64"
      ]
     },
     "execution_count": 8,
     "metadata": {},
     "output_type": "execute_result"
    }
   ],
   "source": [
    "df['rating'].value_counts()"
   ]
  },
  {
   "cell_type": "markdown",
   "metadata": {
    "id": "5E0O_oviJY_T"
   },
   "source": [
    "#### Observations:\n",
    "From 1898 orders, 736 does not containg rating illustrated by Not given."
   ]
  },
  {
   "cell_type": "markdown",
   "metadata": {
    "id": "7msIfXE-JY_T"
   },
   "source": [
    "### Exploratory Data Analysis (EDA)"
   ]
  },
  {
   "cell_type": "markdown",
   "metadata": {
    "id": "-2xfI28YJY_T"
   },
   "source": [
    "### Univariate Analysis"
   ]
  },
  {
   "cell_type": "markdown",
   "metadata": {
    "id": "0RHZnugBJY_U"
   },
   "source": [
    "###  Explore all the variables and provide observations on their distributions. "
   ]
  },
  {
   "cell_type": "code",
   "execution_count": 9,
   "metadata": {
    "id": "rU5ZqISjJY_U"
   },
   "outputs": [
    {
     "data": {
      "text/plain": [
       "order_id                 1898\n",
       "customer_id              1200\n",
       "restaurant_name           178\n",
       "cuisine_type               14\n",
       "cost_of_the_order         312\n",
       "day_of_the_week             2\n",
       "rating                      4\n",
       "food_preparation_time      16\n",
       "delivery_time              19\n",
       "dtype: int64"
      ]
     },
     "execution_count": 9,
     "metadata": {},
     "output_type": "execute_result"
    }
   ],
   "source": [
    "df.nunique()"
   ]
  },
  {
   "cell_type": "code",
   "execution_count": 10,
   "metadata": {},
   "outputs": [
    {
     "data": {
      "image/png": "[encoded data removed]",
      "text/plain": [
       "<Figure size 1080x360 with 1 Axes>"
      ]
     },
     "metadata": {
      "needs_background": "light"
     },
     "output_type": "display_data"
    }
   ],
   "source": [
    "#Further analysis a.\n",
    "#Cuisine Type\n",
    "# American is the most preferred / favorite cuisine ordered through FoodHub\n",
    "#The preferred order is American > Japanese > Italian > Chinese\n",
    "plt.figure(figsize=(15,5))\n",
    "plt.xticks(rotation=90)\n",
    "sns.countplot(data=df, x='cuisine_type', palette=\"RdBu\");"
   ]
  },
  {
   "cell_type": "code",
   "execution_count": 11,
   "metadata": {},
   "outputs": [
    {
     "data": {
      "image/png": "[encoded data removed]",
      "text/plain": [
       "<Figure size 432x288 with 1 Axes>"
      ]
     },
     "metadata": {
      "needs_background": "light"
     },
     "output_type": "display_data"
    },
    {
     "data": {
      "image/png": "[encoded data removed]",
      "text/plain": [
       "<Figure size 432x288 with 1 Axes>"
      ]
     },
     "metadata": {
      "needs_background": "light"
     },
     "output_type": "display_data"
    }
   ],
   "source": [
    "#Further analysis b.\n",
    "#Cost of the order\n",
    "#Cost of the order varies from $5 to $35\n",
    "# There are no outliers in cost of orders\n",
    "# 50% of the orders are less than 15$\n",
    "sns.histplot(data = df, x = 'cost_of_the_order', kde=True)\n",
    "plt.show()\n",
    "sns.boxplot(data=df, x='cost_of_the_order')\n",
    "plt.show()"
   ]
  },
  {
   "cell_type": "code",
   "execution_count": 12,
   "metadata": {},
   "outputs": [
    {
     "data": {
      "image/png": "[encoded data removed]",
      "text/plain": [
       "<Figure size 432x288 with 1 Axes>"
      ]
     },
     "metadata": {
      "needs_background": "light"
     },
     "output_type": "display_data"
    },
    {
     "data": {
      "image/png": "[encoded data removed]",
      "text/plain": [
       "<Figure size 432x288 with 1 Axes>"
      ]
     },
     "metadata": {
      "needs_background": "light"
     },
     "output_type": "display_data"
    }
   ],
   "source": [
    "#Further analysis c.\n",
    "#Day of the week\n",
    "#Order by customers on Weekends are 2 times higher than Weekdays\n",
    "#A lot of orders are made during the Weekend\n",
    "sns.countplot(data=df, x='day_of_the_week', palette = \"Set3\");\n",
    "plt.show()\n",
    "#Rating\n",
    "#Excluding 'Not given', majority of the orders are rated 5 out of 5 points\n",
    "sns.countplot(data=df, x='rating', palette=\"RdBu\")\n",
    "plt.show()"
   ]
  },
  {
   "cell_type": "code",
   "execution_count": 13,
   "metadata": {},
   "outputs": [
    {
     "data": {
      "image/png": "[encoded data removed]",
      "text/plain": [
       "<Figure size 432x288 with 1 Axes>"
      ]
     },
     "metadata": {
      "needs_background": "light"
     },
     "output_type": "display_data"
    },
    {
     "data": {
      "image/png": "[encoded data removed]",
      "text/plain": [
       "<Figure size 432x288 with 1 Axes>"
      ]
     },
     "metadata": {
      "needs_background": "light"
     },
     "output_type": "display_data"
    }
   ],
   "source": [
    "#Further analysis d.\n",
    "# Food preparation time\n",
    "# food prep time ranges from 20~35\n",
    "# There are no outliers for food preparation time\n",
    "# 50% of the food preparation time values are less than 27 minutes\n",
    "sns.histplot(data = df, x = 'food_preparation_time', kde=True)\n",
    "plt.show()\n",
    "sns.boxplot(data=df, x='food_preparation_time')\n",
    "plt.show()"
   ]
  },
  {
   "cell_type": "code",
   "execution_count": 14,
   "metadata": {},
   "outputs": [
    {
     "data": {
      "image/png": "[encoded data removed]",
      "text/plain": [
       "<Figure size 432x288 with 1 Axes>"
      ]
     },
     "metadata": {
      "needs_background": "light"
     },
     "output_type": "display_data"
    },
    {
     "data": {
      "image/png": "[encoded data removed]",
      "text/plain": [
       "<Figure size 432x288 with 1 Axes>"
      ]
     },
     "metadata": {
      "needs_background": "light"
     },
     "output_type": "display_data"
    }
   ],
   "source": [
    "#Further analysis e.\n",
    "# Delivery time\n",
    "# delivery time ranges from 15.0~32.5\n",
    "# There are no outliers for delivery time\n",
    "# 50% of the delivery time values are less than 25.0 minutes\n",
    "sns.histplot(data = df, x = 'delivery_time', kde=True)\n",
    "plt.show()\n",
    "sns.boxplot(data=df, x='delivery_time')\n",
    "plt.show()"
   ]
  },
  {
   "cell_type": "markdown",
   "metadata": {
    "id": "K9CqA5H_JY_U"
   },
   "source": [
    "###  Which are the top 5 restaurants in terms of the number of orders received? "
   ]
  },
  {
   "cell_type": "code",
   "execution_count": 15,
   "metadata": {
    "id": "PaJZ3wlOJY_U"
   },
   "outputs": [
    {
     "data": {
      "text/plain": [
       "Shake Shack                  219\n",
       "The Meatball Shop            132\n",
       "Blue Ribbon Sushi            119\n",
       "Blue Ribbon Fried Chicken     96\n",
       "Parm                          68\n",
       "Name: restaurant_name, dtype: int64"
      ]
     },
     "execution_count": 15,
     "metadata": {},
     "output_type": "execute_result"
    }
   ],
   "source": [
    "#Top 5 restaurants in terms of the number of orders received:\n",
    "# Shake Shack, Meatball Shop, Blue Ribbon Sushi, Blue Ribbon Fried Chicken, Parm \n",
    "top_5_rest = df['restaurant_name'].value_counts().sort_values(ascending=False)\n",
    "top_5_rest.head(5)\n"
   ]
  },
  {
   "cell_type": "markdown",
   "metadata": {
    "id": "tnjhWgUfJY_U"
   },
   "source": [
    "#### Observations:\n",
    "The top 5 restaurants in terms of the number of orders received are:\n",
    "\n",
    "1.Shake Shack\n",
    "\n",
    "2.Meatball Shop\n",
    "\n",
    "3.Blue Ribbon Sushi\n",
    "\n",
    "4.Blue Ribbon Fried Chicken\n",
    "\n",
    "5.Parm"
   ]
  },
  {
   "cell_type": "markdown",
   "metadata": {
    "id": "gWPMqGq0JY_U"
   },
   "source": [
    "###  Which is the most popular cuisine on weekends? "
   ]
  },
  {
   "cell_type": "code",
   "execution_count": 16,
   "metadata": {
    "id": "c-Xnus3VJY_U"
   },
   "outputs": [
    {
     "data": {
      "text/plain": [
       "American          415\n",
       "Japanese          335\n",
       "Italian           207\n",
       "Chinese           163\n",
       "Mexican            53\n",
       "Indian             49\n",
       "Mediterranean      32\n",
       "Middle Eastern     32\n",
       "Thai               15\n",
       "French             13\n",
       "Korean             11\n",
       "Southern           11\n",
       "Spanish            11\n",
       "Vietnamese          4\n",
       "Name: cuisine_type, dtype: int64"
      ]
     },
     "execution_count": 16,
     "metadata": {},
     "output_type": "execute_result"
    }
   ],
   "source": [
    "df[df['day_of_the_week'] == \"Weekend\"]['cuisine_type'].value_counts()"
   ]
  },
  {
   "cell_type": "code",
   "execution_count": 17,
   "metadata": {},
   "outputs": [
    {
     "data": {
      "image/png": "[encoded data removed]",
      "text/plain": [
       "<Figure size 1224x360 with 1 Axes>"
      ]
     },
     "metadata": {
      "needs_background": "light"
     },
     "output_type": "display_data"
    }
   ],
   "source": [
    "plt.figure(figsize=(17,5))\n",
    "sns.countplot(data = df, x = 'cuisine_type', hue = 'day_of_the_week', palette = \"RdBu\")\n",
    "plt.title(\"Popular Cuisine Type\");"
   ]
  },
  {
   "cell_type": "markdown",
   "metadata": {
    "id": "bpQ270TUJY_U"
   },
   "source": [
    "#### Observations:\n",
    "I. The most popular cuisin on weekdays is also 'American'\n",
    "\n",
    "II. The most popular cuisine on weekends is 'American'"
   ]
  },
  {
   "cell_type": "markdown",
   "metadata": {
    "id": "88xgTqkxJY_U"
   },
   "source": [
    "###  What percentage of the orders cost more than 20 dollars? "
   ]
  },
  {
   "cell_type": "code",
   "execution_count": 18,
   "metadata": {
    "id": "OTpHyTdzJY_U"
   },
   "outputs": [
    {
     "name": "stdout",
     "output_type": "stream",
     "text": [
      "29.2 %\n"
     ]
    }
   ],
   "source": [
    "# 555 of the orders cost more than 20 dollars\n",
    "greater_than_20 = df[df['cost_of_the_order']>20]\n",
    "greater_than_20.shape[0]\n",
    "\n",
    "# 29.2 percentage of the orders cost more than 20 dollars\n",
    "percentage = round((greater_than_20.shape[0]/1898) * 100, 1)\n",
    "print(percentage, \"%\")"
   ]
  },
  {
   "cell_type": "markdown",
   "metadata": {
    "id": "77KNAC5zJY_U"
   },
   "source": [
    "#### Observations:\n",
    "From 1898 orders, 555 which is equivalet to 29.2% of the orders cost more than 20 dollars"
   ]
  },
  {
   "cell_type": "markdown",
   "metadata": {
    "id": "HFyHn7hsJY_V"
   },
   "source": [
    "###  What is the mean order delivery time? "
   ]
  },
  {
   "cell_type": "code",
   "execution_count": 19,
   "metadata": {
    "id": "cyFL13hNJY_V"
   },
   "outputs": [
    {
     "data": {
      "text/plain": [
       "24.16"
      ]
     },
     "execution_count": 19,
     "metadata": {},
     "output_type": "execute_result"
    }
   ],
   "source": [
    "round(df['delivery_time'].mean(), 2)"
   ]
  },
  {
   "cell_type": "markdown",
   "metadata": {
    "id": "F35SRV-HJY_V"
   },
   "source": [
    "#### Observations:\n",
    "The mean order delivery time is 24 minutes and 16 seconds."
   ]
  },
  {
   "cell_type": "markdown",
   "metadata": {
    "id": "48IjaOuDJY_V"
   },
   "source": [
    "###  The company has decided to give 20% discount vouchers to the top 5 most frequent customers. Find the IDs of these customers and the number of orders they placed."
   ]
  },
  {
   "cell_type": "code",
   "execution_count": 20,
   "metadata": {
    "id": "Hz8-DE4Zge0j"
   },
   "outputs": [
    {
     "data": {
      "text/html": [
       "<div>\n",
       "<style scoped>\n",
       "    .dataframe tbody tr th:only-of-type {\n",
       "        vertical-align: middle;\n",
       "    }\n",
       "\n",
       "    .dataframe tbody tr th {\n",
       "        vertical-align: top;\n",
       "    }\n",
       "\n",
       "    .dataframe thead th {\n",
       "        text-align: right;\n",
       "    }\n",
       "</style>\n",
       "<table border=\"1\" class=\"dataframe\">\n",
       "  <thead>\n",
       "    <tr style=\"text-align: right;\">\n",
       "      <th></th>\n",
       "      <th>index</th>\n",
       "      <th>customer_id</th>\n",
       "    </tr>\n",
       "  </thead>\n",
       "  <tbody>\n",
       "    <tr>\n",
       "      <th>0</th>\n",
       "      <td>52832</td>\n",
       "      <td>13</td>\n",
       "    </tr>\n",
       "    <tr>\n",
       "      <th>1</th>\n",
       "      <td>47440</td>\n",
       "      <td>10</td>\n",
       "    </tr>\n",
       "    <tr>\n",
       "      <th>2</th>\n",
       "      <td>83287</td>\n",
       "      <td>9</td>\n",
       "    </tr>\n",
       "    <tr>\n",
       "      <th>3</th>\n",
       "      <td>250494</td>\n",
       "      <td>8</td>\n",
       "    </tr>\n",
       "    <tr>\n",
       "      <th>4</th>\n",
       "      <td>259341</td>\n",
       "      <td>7</td>\n",
       "    </tr>\n",
       "  </tbody>\n",
       "</table>\n",
       "</div>"
      ],
      "text/plain": [
       "    index  customer_id\n",
       "0   52832           13\n",
       "1   47440           10\n",
       "2   83287            9\n",
       "3  250494            8\n",
       "4  259341            7"
      ]
     },
     "execution_count": 20,
     "metadata": {},
     "output_type": "execute_result"
    }
   ],
   "source": [
    "frequent_customer = df['customer_id'].value_counts().sort_values(ascending=False)\n",
    "frequent_customer.head().reset_index()\n",
    "\n",
    "\n",
    "#Top 5 most frequenst customers are:"
   ]
  },
  {
   "cell_type": "markdown",
   "metadata": {
    "id": "9tWVwfX6JY_V"
   },
   "source": [
    "#### Observations:\n",
    "From the table above\n",
    "\n",
    "I. The IDs from 1st place to 5th place are the follwing: '52832' '47440' '83287' '250494' '259341'.\n",
    "\n",
    "II. The Foodhub company resulted in giving discount vouchers worth 20% to the top 5 customers with the most frequent order."
   ]
  },
  {
   "cell_type": "markdown",
   "metadata": {
    "id": "AfIc2jPaJY_V"
   },
   "source": [
    "### Multivariate Analysis"
   ]
  },
  {
   "cell_type": "markdown",
   "metadata": {
    "id": "iqiS0RT_JY_V"
   },
   "source": [
    "###  Perform a multivariate analysis to explore relationships between the important variables in the dataset. (It is a good idea to explore relations between numerical variables as well as relations between numerical and categorical variables) \n"
   ]
  },
  {
   "cell_type": "code",
   "execution_count": 21,
   "metadata": {
    "id": "3qt4MCNTJY_V"
   },
   "outputs": [
    {
     "name": "stdout",
     "output_type": "stream",
     "text": [
      "<class 'pandas.core.frame.DataFrame'>\n",
      "RangeIndex: 1898 entries, 0 to 1897\n",
      "Data columns (total 9 columns):\n",
      " #   Column                 Non-Null Count  Dtype  \n",
      "---  ------                 --------------  -----  \n",
      " 0   order_id               1898 non-null   int64  \n",
      " 1   customer_id            1898 non-null   int64  \n",
      " 2   restaurant_name        1898 non-null   object \n",
      " 3   cuisine_type           1898 non-null   object \n",
      " 4   cost_of_the_order      1898 non-null   float64\n",
      " 5   day_of_the_week        1898 non-null   object \n",
      " 6   rating                 1898 non-null   object \n",
      " 7   food_preparation_time  1898 non-null   int64  \n",
      " 8   delivery_time          1898 non-null   int64  \n",
      "dtypes: float64(1), int64(4), object(4)\n",
      "memory usage: 133.6+ KB\n"
     ]
    }
   ],
   "source": [
    "df.info()"
   ]
  },
  {
   "cell_type": "code",
   "execution_count": 28,
   "metadata": {},
   "outputs": [
    {
     "data": {
      "image/png": "[encoded data removed]",
      "text/plain": [
       "<Figure size 360x216 with 1 Axes>"
      ]
     },
     "metadata": {
      "needs_background": "light"
     },
     "output_type": "display_data"
    },
    {
     "data": {
      "image/png": "[encoded data removed]",
      "text/plain": [
       "<Figure size 360x216 with 1 Axes>"
      ]
     },
     "metadata": {
      "needs_background": "light"
     },
     "output_type": "display_data"
    },
    {
     "data": {
      "image/png": "[encoded data removed]",
      "text/plain": [
       "<Figure size 360x216 with 1 Axes>"
      ]
     },
     "metadata": {
      "needs_background": "light"
     },
     "output_type": "display_data"
    }
   ],
   "source": [
    "#Further Analysis a. \n",
    "# cost of the order, food preparation time, delivery time vs day of the week\n",
    "\n",
    "lst = ['cost_of_the_order', 'food_preparation_time', 'delivery_time']\n",
    "for i in lst:\n",
    "    plt.figure(figsize=(5,3))\n",
    "    sns.pointplot(data=df, x='day_of_the_week', y=i, palette = 'rocket')\n",
    "    plt.show();\n",
    "#From the Graphs below, \n",
    "# [Cost of order] Average cost of order on weekday is lower than weekends\n",
    "# [Food preparation time] Average food preparation time for weekdays is lower than weekends\n",
    "# [Delivery time] Average delivery time for weekend is lower than weekdays (big difference)"
   ]
  },
  {
   "cell_type": "code",
   "execution_count": 29,
   "metadata": {},
   "outputs": [
    {
     "data": {
      "image/png": "[encoded data removed]",
      "text/plain": [
       "<Figure size 720x360 with 2 Axes>"
      ]
     },
     "metadata": {
      "needs_background": "light"
     },
     "output_type": "display_data"
    }
   ],
   "source": [
    "#Further Analysis b.\n",
    "\n",
    "#The Correlation of variable:  order id, customer id, cost of the order, food preparation time, delivery time\n",
    "plt.figure(figsize=(10,5))\n",
    "sns.heatmap(df.corr(),annot=True,cmap='rocket',vmin=-1,vmax=1)\n",
    "plt.title(\"HeatMap of Numerical Var\");\n",
    "\n",
    "#It is hard to notice any high correlation between numerical variables"
   ]
  },
  {
   "cell_type": "code",
   "execution_count": 30,
   "metadata": {},
   "outputs": [
    {
     "data": {
      "image/png": "[encoded data removed]",
      "text/plain": [
       "<Figure size 1080x216 with 1 Axes>"
      ]
     },
     "metadata": {
      "needs_background": "light"
     },
     "output_type": "display_data"
    },
    {
     "data": {
      "image/png": "[encoded data removed]",
      "text/plain": [
       "<Figure size 1080x216 with 1 Axes>"
      ]
     },
     "metadata": {
      "needs_background": "light"
     },
     "output_type": "display_data"
    },
    {
     "data": {
      "image/png": "[encoded data removed]",
      "text/plain": [
       "<Figure size 1080x216 with 1 Axes>"
      ]
     },
     "metadata": {
      "needs_background": "light"
     },
     "output_type": "display_data"
    }
   ],
   "source": [
    "#Further Analysis c.\n",
    "# cost of the order, food preparation time, delivery time vs cuisine type\n",
    "\n",
    "lst = ['cost_of_the_order', 'food_preparation_time', 'delivery_time']\n",
    "for i in lst:\n",
    "    plt.figure(figsize=(15,3))\n",
    "    sns.pointplot(data=df, x='cuisine_type', y=i, palette = 'RdBu')\n",
    "    plt.show();\n",
    "#From the Graphs below, \n",
    "# [Cost of order] Lowest cost of order is Vietnamese\n",
    "# [Food preparation time] Mean Food preparation time for Korean and Vietnamese is the lowest\n",
    "# [Delivery time] Mean delivery time for Korean cuisine is the lowest"
   ]
  },
  {
   "cell_type": "code",
   "execution_count": 31,
   "metadata": {},
   "outputs": [
    {
     "data": {
      "text/html": [
       "<style type=\"text/css\">\n",
       "#T_04c24_row0_col1 {\n",
       "  background-color: #2c3172;\n",
       "  color: #f1f1f1;\n",
       "}\n",
       "#T_04c24_row1_col1 {\n",
       "  background-color: #2d7f8c;\n",
       "  color: #f1f1f1;\n",
       "}\n",
       "#T_04c24_row2_col1 {\n",
       "  background-color: #38898e;\n",
       "  color: #f1f1f1;\n",
       "}\n",
       "#T_04c24_row3_col1 {\n",
       "  background-color: #4c9b90;\n",
       "  color: #f1f1f1;\n",
       "}\n",
       "#T_04c24_row4_col1 {\n",
       "  background-color: #6cb190;\n",
       "  color: #f1f1f1;\n",
       "}\n",
       "#T_04c24_row5_col1 {\n",
       "  background-color: #78b891;\n",
       "  color: #f1f1f1;\n",
       "}\n",
       "#T_04c24_row6_col1 {\n",
       "  background-color: #7eba91;\n",
       "  color: #000000;\n",
       "}\n",
       "#T_04c24_row7_col1 {\n",
       "  background-color: #88bf91;\n",
       "  color: #000000;\n",
       "}\n",
       "#T_04c24_row8_col1 {\n",
       "  background-color: #8dc191;\n",
       "  color: #000000;\n",
       "}\n",
       "#T_04c24_row9_col1 {\n",
       "  background-color: #8fc291;\n",
       "  color: #000000;\n",
       "}\n",
       "#T_04c24_row10_col1 {\n",
       "  background-color: #92c491;\n",
       "  color: #000000;\n",
       "}\n",
       "#T_04c24_row11_col1, #T_04c24_row12_col1 {\n",
       "  background-color: #9ac791;\n",
       "  color: #000000;\n",
       "}\n",
       "#T_04c24_row13_col1 {\n",
       "  background-color: #a4cc90;\n",
       "  color: #000000;\n",
       "}\n",
       "#T_04c24_row14_col1 {\n",
       "  background-color: #a5cd90;\n",
       "  color: #000000;\n",
       "}\n",
       "</style>\n",
       "<table id=\"T_04c24\">\n",
       "  <thead>\n",
       "    <tr>\n",
       "      <th class=\"blank level0\" >&nbsp;</th>\n",
       "      <th id=\"T_04c24_level0_col0\" class=\"col_heading level0 col0\" >restaurant_name</th>\n",
       "      <th id=\"T_04c24_level0_col1\" class=\"col_heading level0 col1\" >order_count</th>\n",
       "      <th id=\"T_04c24_level0_col2\" class=\"col_heading level0 col2\" >delivery_time</th>\n",
       "      <th id=\"T_04c24_level0_col3\" class=\"col_heading level0 col3\" >cost_of_the_order</th>\n",
       "      <th id=\"T_04c24_level0_col4\" class=\"col_heading level0 col4\" >food_preparation_time</th>\n",
       "    </tr>\n",
       "  </thead>\n",
       "  <tbody>\n",
       "    <tr>\n",
       "      <th id=\"T_04c24_level0_row0\" class=\"row_heading level0 row0\" >0</th>\n",
       "      <td id=\"T_04c24_row0_col0\" class=\"data row0 col0\" >Shake Shack</td>\n",
       "      <td id=\"T_04c24_row0_col1\" class=\"data row0 col1\" >219</td>\n",
       "      <td id=\"T_04c24_row0_col2\" class=\"data row0 col2\" >24.662100</td>\n",
       "      <td id=\"T_04c24_row0_col3\" class=\"data row0 col3\" >16.344886</td>\n",
       "      <td id=\"T_04c24_row0_col4\" class=\"data row0 col4\" >27.945205</td>\n",
       "    </tr>\n",
       "    <tr>\n",
       "      <th id=\"T_04c24_level0_row1\" class=\"row_heading level0 row1\" >1</th>\n",
       "      <td id=\"T_04c24_row1_col0\" class=\"data row1 col0\" >The Meatball Shop</td>\n",
       "      <td id=\"T_04c24_row1_col1\" class=\"data row1 col1\" >132</td>\n",
       "      <td id=\"T_04c24_row1_col2\" class=\"data row1 col2\" >24.242424</td>\n",
       "      <td id=\"T_04c24_row1_col3\" class=\"data row1 col3\" >16.251591</td>\n",
       "      <td id=\"T_04c24_row1_col4\" class=\"data row1 col4\" >27.181818</td>\n",
       "    </tr>\n",
       "    <tr>\n",
       "      <th id=\"T_04c24_level0_row2\" class=\"row_heading level0 row2\" >2</th>\n",
       "      <td id=\"T_04c24_row2_col0\" class=\"data row2 col0\" >Blue Ribbon Sushi</td>\n",
       "      <td id=\"T_04c24_row2_col1\" class=\"data row2 col1\" >119</td>\n",
       "      <td id=\"T_04c24_row2_col2\" class=\"data row2 col2\" >23.941176</td>\n",
       "      <td id=\"T_04c24_row2_col3\" class=\"data row2 col3\" >15.999580</td>\n",
       "      <td id=\"T_04c24_row2_col4\" class=\"data row2 col4\" >27.924370</td>\n",
       "    </tr>\n",
       "    <tr>\n",
       "      <th id=\"T_04c24_level0_row3\" class=\"row_heading level0 row3\" >3</th>\n",
       "      <td id=\"T_04c24_row3_col0\" class=\"data row3 col0\" >Blue Ribbon Fried Chicken</td>\n",
       "      <td id=\"T_04c24_row3_col1\" class=\"data row3 col1\" >96</td>\n",
       "      <td id=\"T_04c24_row3_col2\" class=\"data row3 col2\" >24.145833</td>\n",
       "      <td id=\"T_04c24_row3_col3\" class=\"data row3 col3\" >17.315521</td>\n",
       "      <td id=\"T_04c24_row3_col4\" class=\"data row3 col4\" >27.197917</td>\n",
       "    </tr>\n",
       "    <tr>\n",
       "      <th id=\"T_04c24_level0_row4\" class=\"row_heading level0 row4\" >4</th>\n",
       "      <td id=\"T_04c24_row4_col0\" class=\"data row4 col0\" >Parm</td>\n",
       "      <td id=\"T_04c24_row4_col1\" class=\"data row4 col1\" >68</td>\n",
       "      <td id=\"T_04c24_row4_col2\" class=\"data row4 col2\" >25.500000</td>\n",
       "      <td id=\"T_04c24_row4_col3\" class=\"data row4 col3\" >16.364118</td>\n",
       "      <td id=\"T_04c24_row4_col4\" class=\"data row4 col4\" >27.308824</td>\n",
       "    </tr>\n",
       "    <tr>\n",
       "      <th id=\"T_04c24_level0_row5\" class=\"row_heading level0 row5\" >5</th>\n",
       "      <td id=\"T_04c24_row5_col0\" class=\"data row5 col0\" >RedFarm Broadway</td>\n",
       "      <td id=\"T_04c24_row5_col1\" class=\"data row5 col1\" >59</td>\n",
       "      <td id=\"T_04c24_row5_col2\" class=\"data row5 col2\" >23.152542</td>\n",
       "      <td id=\"T_04c24_row5_col3\" class=\"data row5 col3\" >16.358136</td>\n",
       "      <td id=\"T_04c24_row5_col4\" class=\"data row5 col4\" >27.593220</td>\n",
       "    </tr>\n",
       "    <tr>\n",
       "      <th id=\"T_04c24_level0_row6\" class=\"row_heading level0 row6\" >6</th>\n",
       "      <td id=\"T_04c24_row6_col0\" class=\"data row6 col0\" >RedFarm Hudson</td>\n",
       "      <td id=\"T_04c24_row6_col1\" class=\"data row6 col1\" >55</td>\n",
       "      <td id=\"T_04c24_row6_col2\" class=\"data row6 col2\" >24.200000</td>\n",
       "      <td id=\"T_04c24_row6_col3\" class=\"data row6 col3\" >16.749273</td>\n",
       "      <td id=\"T_04c24_row6_col4\" class=\"data row6 col4\" >27.163636</td>\n",
       "    </tr>\n",
       "    <tr>\n",
       "      <th id=\"T_04c24_level0_row7\" class=\"row_heading level0 row7\" >7</th>\n",
       "      <td id=\"T_04c24_row7_col0\" class=\"data row7 col0\" >TAO</td>\n",
       "      <td id=\"T_04c24_row7_col1\" class=\"data row7 col1\" >49</td>\n",
       "      <td id=\"T_04c24_row7_col2\" class=\"data row7 col2\" >23.163265</td>\n",
       "      <td id=\"T_04c24_row7_col3\" class=\"data row7 col3\" >17.030612</td>\n",
       "      <td id=\"T_04c24_row7_col4\" class=\"data row7 col4\" >26.775510</td>\n",
       "    </tr>\n",
       "    <tr>\n",
       "      <th id=\"T_04c24_level0_row8\" class=\"row_heading level0 row8\" >8</th>\n",
       "      <td id=\"T_04c24_row8_col0\" class=\"data row8 col0\" >Han Dynasty</td>\n",
       "      <td id=\"T_04c24_row8_col1\" class=\"data row8 col1\" >46</td>\n",
       "      <td id=\"T_04c24_row8_col2\" class=\"data row8 col2\" >23.152174</td>\n",
       "      <td id=\"T_04c24_row8_col3\" class=\"data row8 col3\" >16.419348</td>\n",
       "      <td id=\"T_04c24_row8_col4\" class=\"data row8 col4\" >27.413043</td>\n",
       "    </tr>\n",
       "    <tr>\n",
       "      <th id=\"T_04c24_level0_row9\" class=\"row_heading level0 row9\" >9</th>\n",
       "      <td id=\"T_04c24_row9_col0\" class=\"data row9 col0\" >Blue Ribbon Sushi Bar & Grill</td>\n",
       "      <td id=\"T_04c24_row9_col1\" class=\"data row9 col1\" >44</td>\n",
       "      <td id=\"T_04c24_row9_col2\" class=\"data row9 col2\" >23.409091</td>\n",
       "      <td id=\"T_04c24_row9_col3\" class=\"data row9 col3\" >15.150455</td>\n",
       "      <td id=\"T_04c24_row9_col4\" class=\"data row9 col4\" >26.295455</td>\n",
       "    </tr>\n",
       "    <tr>\n",
       "      <th id=\"T_04c24_level0_row10\" class=\"row_heading level0 row10\" >10</th>\n",
       "      <td id=\"T_04c24_row10_col0\" class=\"data row10 col0\" >Nobu Next Door</td>\n",
       "      <td id=\"T_04c24_row10_col1\" class=\"data row10 col1\" >42</td>\n",
       "      <td id=\"T_04c24_row10_col2\" class=\"data row10 col2\" >24.571429</td>\n",
       "      <td id=\"T_04c24_row10_col3\" class=\"data row10 col3\" >14.849286</td>\n",
       "      <td id=\"T_04c24_row10_col4\" class=\"data row10 col4\" >27.761905</td>\n",
       "    </tr>\n",
       "    <tr>\n",
       "      <th id=\"T_04c24_level0_row11\" class=\"row_heading level0 row11\" >11</th>\n",
       "      <td id=\"T_04c24_row11_col0\" class=\"data row11 col0\" >Rubirosa</td>\n",
       "      <td id=\"T_04c24_row11_col1\" class=\"data row11 col1\" >37</td>\n",
       "      <td id=\"T_04c24_row11_col2\" class=\"data row11 col2\" >23.675676</td>\n",
       "      <td id=\"T_04c24_row11_col3\" class=\"data row11 col3\" >17.850000</td>\n",
       "      <td id=\"T_04c24_row11_col4\" class=\"data row11 col4\" >28.243243</td>\n",
       "    </tr>\n",
       "    <tr>\n",
       "      <th id=\"T_04c24_level0_row12\" class=\"row_heading level0 row12\" >12</th>\n",
       "      <td id=\"T_04c24_row12_col0\" class=\"data row12 col0\" >Sushi of Gari 46</td>\n",
       "      <td id=\"T_04c24_row12_col1\" class=\"data row12 col1\" >37</td>\n",
       "      <td id=\"T_04c24_row12_col2\" class=\"data row12 col2\" >25.972973</td>\n",
       "      <td id=\"T_04c24_row12_col3\" class=\"data row12 col3\" >17.320811</td>\n",
       "      <td id=\"T_04c24_row12_col4\" class=\"data row12 col4\" >27.540541</td>\n",
       "    </tr>\n",
       "    <tr>\n",
       "      <th id=\"T_04c24_level0_row13\" class=\"row_heading level0 row13\" >13</th>\n",
       "      <td id=\"T_04c24_row13_col0\" class=\"data row13 col0\" >Momoya</td>\n",
       "      <td id=\"T_04c24_row13_col1\" class=\"data row13 col1\" >30</td>\n",
       "      <td id=\"T_04c24_row13_col2\" class=\"data row13 col2\" >25.133333</td>\n",
       "      <td id=\"T_04c24_row13_col3\" class=\"data row13 col3\" >16.404333</td>\n",
       "      <td id=\"T_04c24_row13_col4\" class=\"data row13 col4\" >27.300000</td>\n",
       "    </tr>\n",
       "    <tr>\n",
       "      <th id=\"T_04c24_level0_row14\" class=\"row_heading level0 row14\" >14</th>\n",
       "      <td id=\"T_04c24_row14_col0\" class=\"data row14 col0\" >Blue Ribbon Sushi Izakaya</td>\n",
       "      <td id=\"T_04c24_row14_col1\" class=\"data row14 col1\" >29</td>\n",
       "      <td id=\"T_04c24_row14_col2\" class=\"data row14 col2\" >23.482759</td>\n",
       "      <td id=\"T_04c24_row14_col3\" class=\"data row14 col3\" >16.727241</td>\n",
       "      <td id=\"T_04c24_row14_col4\" class=\"data row14 col4\" >28.724138</td>\n",
       "    </tr>\n",
       "  </tbody>\n",
       "</table>\n"
      ],
      "text/plain": [
       "<pandas.io.formats.style.Styler at 0x7fa6288008b0>"
      ]
     },
     "execution_count": 31,
     "metadata": {},
     "output_type": "execute_result"
    }
   ],
   "source": [
    "#Further observations d.\n",
    "#TheTop 15 restaurants with the most orders with mean delivery time, cost of order, food preparation time\n",
    "count_restaurant = df.groupby(['restaurant_name'])['order_id'].count().sort_values(ascending=False).reset_index()\n",
    "delivery_total = df.groupby(['restaurant_name'])['delivery_time'].mean().sort_values(ascending=False).reset_index()\n",
    "cost_total = df.groupby(['restaurant_name'])['cost_of_the_order'].mean().sort_values(ascending=False).reset_index()\n",
    "food_prep_total = df.groupby(['restaurant_name'])['food_preparation_time'].mean().sort_values(ascending=False).reset_index()\n",
    "df_merge = pd.merge(count_restaurant, delivery_total, on = 'restaurant_name', how = 'inner')\n",
    "df_merge_=pd.merge(df_merge, cost_total, on = 'restaurant_name', how='inner')\n",
    "df_merge_final=pd.merge(df_merge_, food_prep_total, on = 'restaurant_name', how='inner')\n",
    "\n",
    "df_merge_final.rename(columns={'order_id':'order_count'}, inplace=True)\n",
    "df_merge_final.head(15).style.background_gradient(cmap='crest', subset = \"order_count\")\n",
    "\n",
    "# Top 15 most ordered restaurants is within the mean values of delivery time, cost of the order, food preparation time. "
   ]
  },
  {
   "cell_type": "code",
   "execution_count": 32,
   "metadata": {},
   "outputs": [
    {
     "data": {
      "image/png": "[encoded data removed]",
      "text/plain": [
       "<Figure size 360x216 with 1 Axes>"
      ]
     },
     "metadata": {
      "needs_background": "light"
     },
     "output_type": "display_data"
    },
    {
     "data": {
      "image/png": "[encoded data removed]",
      "text/plain": [
       "<Figure size 360x216 with 1 Axes>"
      ]
     },
     "metadata": {
      "needs_background": "light"
     },
     "output_type": "display_data"
    },
    {
     "data": {
      "image/png": "[encoded data removed]",
      "text/plain": [
       "<Figure size 360x216 with 1 Axes>"
      ]
     },
     "metadata": {
      "needs_background": "light"
     },
     "output_type": "display_data"
    }
   ],
   "source": [
    "#Further Analysis e.\n",
    "# cost of the order, food preparation time, delivery time vs rating\n",
    "\n",
    "lst = ['cost_of_the_order', 'food_preparation_time', 'delivery_time']\n",
    "for i in lst:\n",
    "    plt.figure(figsize=(5,3))\n",
    "    sns.pointplot(data=df, x='rating', y=i, palette = 'RdBu')\n",
    "    plt.show();\n",
    "#From the Graphs below, \n",
    "# [Cost of order] On average, Highest rating has the highest mean of the cost of orders\n",
    "# [Food preparation time] Range has most variance for the lowest rating (rating: 3)\n",
    "# [Delivery time] Average delivery time is highest for the lowest rating (rating: 3)"
   ]
  },
  {
   "cell_type": "markdown",
   "metadata": {
    "id": "YLkMf09YJY_V"
   },
   "source": [
    "### **Question 13:** The company wants to provide a promotional offer in the advertisement of the restaurants. The condition to get the offer is that the restaurants must have a rating count of more than 50 and the average rating should be greater than 4. Find the restaurants fulfilling the criteria to get the promotional offer. [3 marks]"
   ]
  },
  {
   "cell_type": "code",
   "execution_count": 27,
   "metadata": {
    "id": "0M_QDvbYJY_V"
   },
   "outputs": [
    {
     "data": {
      "text/html": [
       "<div>\n",
       "<style scoped>\n",
       "    .dataframe tbody tr th:only-of-type {\n",
       "        vertical-align: middle;\n",
       "    }\n",
       "\n",
       "    .dataframe tbody tr th {\n",
       "        vertical-align: top;\n",
       "    }\n",
       "\n",
       "    .dataframe thead th {\n",
       "        text-align: right;\n",
       "    }\n",
       "</style>\n",
       "<table border=\"1\" class=\"dataframe\">\n",
       "  <thead>\n",
       "    <tr style=\"text-align: right;\">\n",
       "      <th></th>\n",
       "      <th>restaurant_name</th>\n",
       "      <th>rating</th>\n",
       "    </tr>\n",
       "  </thead>\n",
       "  <tbody>\n",
       "    <tr>\n",
       "      <th>0</th>\n",
       "      <td>Shake Shack</td>\n",
       "      <td>133</td>\n",
       "    </tr>\n",
       "    <tr>\n",
       "      <th>1</th>\n",
       "      <td>The Meatball Shop</td>\n",
       "      <td>84</td>\n",
       "    </tr>\n",
       "    <tr>\n",
       "      <th>2</th>\n",
       "      <td>Blue Ribbon Sushi</td>\n",
       "      <td>73</td>\n",
       "    </tr>\n",
       "    <tr>\n",
       "      <th>3</th>\n",
       "      <td>Blue Ribbon Fried Chicken</td>\n",
       "      <td>64</td>\n",
       "    </tr>\n",
       "  </tbody>\n",
       "</table>\n",
       "</div>"
      ],
      "text/plain": [
       "             restaurant_name  rating\n",
       "0                Shake Shack     133\n",
       "1          The Meatball Shop      84\n",
       "2          Blue Ribbon Sushi      73\n",
       "3  Blue Ribbon Fried Chicken      64"
      ]
     },
     "execution_count": 27,
     "metadata": {},
     "output_type": "execute_result"
    }
   ],
   "source": [
    "# restaurants with rating count of more than 50 \n",
    "df_rating = df[df['rating'] != \"Not given\"].copy()\n",
    "df_rating['rating'] = df_rating['rating'].astype(int)\n",
    "\n",
    "df_rating_group = df_rating.groupby(['restaurant_name'])['rating'].count().sort_values(ascending=False).reset_index()\n",
    "df_rating_count = df_rating_group[df_rating_group['rating']>50]\n",
    "df_rating_count\n"
   ]
  },
  {
   "cell_type": "markdown",
   "metadata": {
    "id": "1gvWBkRUJY_V"
   },
   "source": [
    "###  The company charges the restaurant 25% on the orders having cost greater than 20 dollars and 15% on the orders having cost greater than 5 dollars. Find the net revenue generated by the company across all orders. "
   ]
  },
  {
   "cell_type": "code",
   "execution_count": 33,
   "metadata": {
    "id": "rEjbnTNEJY_W"
   },
   "outputs": [
    {
     "data": {
      "text/html": [
       "<div>\n",
       "<style scoped>\n",
       "    .dataframe tbody tr th:only-of-type {\n",
       "        vertical-align: middle;\n",
       "    }\n",
       "\n",
       "    .dataframe tbody tr th {\n",
       "        vertical-align: top;\n",
       "    }\n",
       "\n",
       "    .dataframe thead th {\n",
       "        text-align: right;\n",
       "    }\n",
       "</style>\n",
       "<table border=\"1\" class=\"dataframe\">\n",
       "  <thead>\n",
       "    <tr style=\"text-align: right;\">\n",
       "      <th></th>\n",
       "      <th>restaurant_name</th>\n",
       "      <th>rating</th>\n",
       "    </tr>\n",
       "  </thead>\n",
       "  <tbody>\n",
       "    <tr>\n",
       "      <th>0</th>\n",
       "      <td>Shake Shack</td>\n",
       "      <td>133</td>\n",
       "    </tr>\n",
       "    <tr>\n",
       "      <th>1</th>\n",
       "      <td>The Meatball Shop</td>\n",
       "      <td>84</td>\n",
       "    </tr>\n",
       "    <tr>\n",
       "      <th>2</th>\n",
       "      <td>Blue Ribbon Sushi</td>\n",
       "      <td>73</td>\n",
       "    </tr>\n",
       "    <tr>\n",
       "      <th>3</th>\n",
       "      <td>Blue Ribbon Fried Chicken</td>\n",
       "      <td>64</td>\n",
       "    </tr>\n",
       "  </tbody>\n",
       "</table>\n",
       "</div>"
      ],
      "text/plain": [
       "             restaurant_name  rating\n",
       "0                Shake Shack     133\n",
       "1          The Meatball Shop      84\n",
       "2          Blue Ribbon Sushi      73\n",
       "3  Blue Ribbon Fried Chicken      64"
      ]
     },
     "execution_count": 33,
     "metadata": {},
     "output_type": "execute_result"
    }
   ],
   "source": [
    "# Answer for Q13\n",
    "# restaurants with rating count of more than 50 \n",
    "df_rating = df[df['rating'] != \"Not given\"].copy()\n",
    "df_rating['rating'] = df_rating['rating'].astype(int)\n",
    "\n",
    "df_rating_group = df_rating.groupby(['restaurant_name'])['rating'].count().sort_values(ascending=False).reset_index()\n",
    "df_rating_count = df_rating_group[df_rating_group['rating']>50]\n",
    "df_rating_count"
   ]
  },
  {
   "cell_type": "markdown",
   "metadata": {
    "id": "XHCEJgH0JY_W"
   },
   "source": [
    "#### Observations:\n",
    "Net Total Revenue generated is $6,166.3"
   ]
  },
  {
   "cell_type": "markdown",
   "metadata": {
    "id": "pRlVW-oeJY_W"
   },
   "source": [
    "###  The company wants to analyze the total time required to deliver the food. What percentage of orders take more than 60 minutes to get delivered from the time the order is placed? (The food has to be prepared and then delivered.) "
   ]
  },
  {
   "cell_type": "code",
   "execution_count": 34,
   "metadata": {
    "id": "zxoTrxfLJY_W"
   },
   "outputs": [
    {
     "name": "stdout",
     "output_type": "stream",
     "text": [
      "10.5 % of the orders take more than 60 minutes to be delivered\n",
      "89.5 % of orders are delivered within a hour\n"
     ]
    }
   ],
   "source": [
    "df['total_time'] = df['food_preparation_time'] + df['delivery_time']\n",
    "percentage_60min = df[df['total_time']>60].shape[0]*100/df.shape[0]\n",
    "print(round(percentage_60min, 1), \"% of the orders take more than 60 minutes to be delivered\")\n",
    "print(100-10.5, \"% of orders are delivered within a hour\")"
   ]
  },
  {
   "cell_type": "markdown",
   "metadata": {
    "id": "iqzBXn2yJY_W"
   },
   "source": [
    "#### Observations:\n",
    "The company has 10.5% of the total orders take more than 60 minutes to get delivered from the time the order is placed and 89.5% of orders are delivered within 60 minutes.\n",
    "\n"
   ]
  },
  {
   "cell_type": "markdown",
   "metadata": {
    "id": "bUd6cYpPJY_W"
   },
   "source": [
    "###  The company wants to analyze the delivery time of the orders on weekdays and weekends. How does the mean delivery time vary during weekdays and weekends? "
   ]
  },
  {
   "cell_type": "code",
   "execution_count": 35,
   "metadata": {
    "id": "pIU5xZZ6JY_W"
   },
   "outputs": [
    {
     "data": {
      "image/png": "[encoded data removed]",
      "text/plain": [
       "<Figure size 360x216 with 1 Axes>"
      ]
     },
     "metadata": {
      "needs_background": "light"
     },
     "output_type": "display_data"
    }
   ],
   "source": [
    "plt.figure(figsize=(5,3))\n",
    "sns.boxplot(data=df, x='day_of_the_week', y='delivery_time', palette = 'rocket')\n",
    "plt.show();"
   ]
  },
  {
   "cell_type": "code",
   "execution_count": 36,
   "metadata": {},
   "outputs": [
    {
     "name": "stdout",
     "output_type": "stream",
     "text": [
      "Average delivery time on weekend orders: 22.5 minutes\n",
      "Average delivery time on weekday orders: 28.3 minutes\n"
     ]
    }
   ],
   "source": [
    "print(\"Average delivery time on weekend orders:\", round(df[df['day_of_the_week']==\"Weekend\"]['delivery_time'].mean(),1),\"minutes\")\n",
    "print(\"Average delivery time on weekday orders:\", round(df[df['day_of_the_week']==\"Weekday\"]['delivery_time'].mean(),1),\"minutes\")"
   ]
  },
  {
   "cell_type": "markdown",
   "metadata": {
    "id": "8H-ODxbVJY_W"
   },
   "source": [
    "#### Observations:\n",
    "With respect to the results stated above\n",
    "\n",
    "I. Orders are taking 6 minutes more usually on weekdays rather than when delivering orders on weekends.\n",
    "\n",
    "II. The average delivery time during a weekday an order gets is greater than the mean delivery time on a weekend."
   ]
  },
  {
   "cell_type": "markdown",
   "metadata": {
    "id": "17roJywaJY_W"
   },
   "source": [
    "### Conclusion and Recommendations"
   ]
  },
  {
   "cell_type": "markdown",
   "metadata": {
    "id": "ZdX2Wz4FJY_W"
   },
   "source": [
    "### **Question 17:** What are your conclusions from the analysis? What recommendations would you like to share to help improve the business? (You can use cuisine type and feedback ratings to drive your business recommendations.) [6 marks]"
   ]
  },
  {
   "cell_type": "markdown",
   "metadata": {
    "id": "VTugVsL4Ddz-"
   },
   "source": [
    "### Conclusions:\n",
    "\n",
    "For all the variables in the dataset\n",
    "\n",
    "Concerning Delivery Time\n",
    "\n",
    "The average delivery time takes more time for the lowest rating which is rating 3.\n",
    "\n",
    "Concerning Food prepration time\n",
    "The range in food preparation time has the most variance among the lowest rating that is rating 3.\n",
    "\n",
    "Concerning Cost of order\n",
    "Orders cost more than 20 dollars are 555 which is equivalent to 29.2% hence 70% of the orders that are under 20 dollars.\n",
    "\n",
    "Orders with high ratings that is rating 5 has the highest mean of the cost of orders.\n",
    "\n",
    "Concerning Restaurants The restaurants with rating counts than 50 & average rating greater than 4 are the following:\n",
    "\n",
    "The Meatball Shop, Blue Ribbon Fried Chicken, Shake Shack, Blue Ribbon Sushi.\n",
    "\n",
    "Conclusion: 4 Restautants are eligible for the promotional offer.\n",
    "\n",
    "Concerning Food prepration time The biggest variation in food preparation time is found among the lowest rated which is rating 3.\n",
    "Concerning Number of Orders Shake Shack is one of the top five restaurants ordered.\n",
    "\n",
    "The customer who has placed the most orders on the app has done so 13 times.\n",
    "\n",
    "Concerning Day of the week\n",
    "On weekends, more customers order meals, and delivery times are on average 6 minutes faster than on weekdays.\n",
    "\n",
    "Concerning Cuisine Type\n",
    "On weekends and weekdays, the most popular food is American, Japanese followed by Italian.\n",
    "\n",
    "The cuisine you choose is not determined by the day of the week.\n",
    "\n",
    "Customers who use the Foodhub app love 'American' food the most.\n",
    "\n",
    "Concerning Rating\n",
    "From 1898 order using the application owned by Foodhub, there are 38% orders that are not rated."
   ]
  },
  {
   "cell_type": "markdown",
   "metadata": {
    "id": "PWnsI0i_guWJ"
   },
   "source": [
    "### Recommendations:\n",
    "\n",
    "\n",
    "Total Net Revenue:\n",
    "Because the company's current net revenue is 6,166.3,it should provide discounts to customers who spend more than $20 in a single transaction in order to optimize profitability. The Meatball Shop, Blue Ribbon Fried Chicken, Shake Shack, and Blue Ribbon Sushi all have over 50 reviews and an average rating of 4 or above, thus the company might work with restaurants to sell packaged foods.\n",
    "\n",
    "Ratings:\n",
    "More ratings would be really beneficial to the organization. Currently, only 38% of orders are assessed using the app. It would be a win-win approach for both the corporation and the restaurant if restaurants offered events for rating orders online.\n",
    "\n",
    "Customers and Orders:\n",
    "The customer with the most orders has used the app 13 times. Planning promotions for the most popular items would increase the amount of orders, as well as lead to more loyal consumers.\n",
    "\n",
    "Date and Time:\n",
    "Additional study of the order's date and time of placement, as well as greater evaluations for each order, would provide more insight into FoodHub's business problem."
   ]
  }
 ],
 "metadata": {
  "colab": {
   "collapsed_sections": [],
   "name": "PYF_Project_LearnerNotebook_FullCode.ipynb",
   "provenance": []
  },
  "kernelspec": {
   "display_name": "Python 3 (ipykernel)",
   "language": "python",
   "name": "python3"
  },
  "language_info": {
   "codemirror_mode": {
    "name": "ipython",
    "version": 3
   },
   "file_extension": ".py",
   "mimetype": "text/x-python",
   "name": "python",
   "nbconvert_exporter": "python",
   "pygments_lexer": "ipython3",
   "version": "3.9.12"
  }
 },
 "nbformat": 4,
 "nbformat_minor": 1
}
